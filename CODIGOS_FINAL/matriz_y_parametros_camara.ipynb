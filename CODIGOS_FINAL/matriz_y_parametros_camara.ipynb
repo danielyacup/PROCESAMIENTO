{
 "cells": [
  {
   "cell_type": "code",
   "execution_count": 1,
   "metadata": {
    "id": "pfmN1C9iPo4z"
   },
   "outputs": [],
   "source": [
    "import cv2\n",
    "import numpy as np\n",
    "import glob\n",
    "import pickle\n"
   ]
  },
  {
   "cell_type": "code",
   "execution_count": 2,
   "metadata": {},
   "outputs": [],
   "source": [
    "#Carpeta con las imagenes de los patrones\n",
    "path_pattern = 'D:\\parametros\\pattern'\n",
    "\n",
    "#Carpeta con las carpetas de las imagenes originales y de las imagenes corregidas\n",
    "path_images = 'D:\\parametros\\imagenes'\n"
   ]
  },
  {
   "cell_type": "code",
   "execution_count": 3,
   "metadata": {},
   "outputs": [
    {
     "name": "stdout",
     "output_type": "stream",
     "text": [
      "imagen original: D:\\dani\\pattern\\DJI_0547.JPG\n",
      "imagen evaluada: D:\\dani\\pattern\\DJI_0547.JPG\n",
      "imagen original: D:\\dani\\pattern\\DJI_0548.JPG\n",
      "imagen evaluada: D:\\dani\\pattern\\DJI_0548.JPG\n",
      "imagen original: D:\\dani\\pattern\\DJI_0549.JPG\n",
      "imagen evaluada: D:\\dani\\pattern\\DJI_0549.JPG\n",
      "imagen original: D:\\dani\\pattern\\DJI_0550.JPG\n",
      "imagen evaluada: D:\\dani\\pattern\\DJI_0550.JPG\n",
      "imagen original: D:\\dani\\pattern\\DJI_0551.JPG\n",
      "imagen evaluada: D:\\dani\\pattern\\DJI_0551.JPG\n",
      "imagen original: D:\\dani\\pattern\\DJI_0552.JPG\n",
      "imagen evaluada: D:\\dani\\pattern\\DJI_0552.JPG\n",
      "imagen original: D:\\dani\\pattern\\DJI_0553.JPG\n",
      "imagen evaluada: D:\\dani\\pattern\\DJI_0553.JPG\n",
      "imagen original: D:\\dani\\pattern\\DJI_0554.JPG\n",
      "imagen evaluada: D:\\dani\\pattern\\DJI_0554.JPG\n",
      "imagen original: D:\\dani\\pattern\\DJI_0555.JPG\n",
      "imagen evaluada: D:\\dani\\pattern\\DJI_0555.JPG\n",
      "imagen original: D:\\dani\\pattern\\DJI_0556.JPG\n",
      "imagen evaluada: D:\\dani\\pattern\\DJI_0556.JPG\n",
      "imagen original: D:\\dani\\pattern\\DJI_0557.JPG\n",
      "imagen evaluada: D:\\dani\\pattern\\DJI_0557.JPG\n",
      "imagen original: D:\\dani\\pattern\\DJI_0558.JPG\n",
      "imagen evaluada: D:\\dani\\pattern\\DJI_0558.JPG\n",
      "imagen original: D:\\dani\\pattern\\DJI_0559.JPG\n",
      "imagen evaluada: D:\\dani\\pattern\\DJI_0559.JPG\n",
      "imagen original: D:\\dani\\pattern\\DJI_0560.JPG\n",
      "imagen evaluada: D:\\dani\\pattern\\DJI_0560.JPG\n",
      "imagen original: D:\\dani\\pattern\\DJI_0561.JPG\n",
      "imagen evaluada: D:\\dani\\pattern\\DJI_0561.JPG\n",
      "imagen original: D:\\dani\\pattern\\DJI_0562.JPG\n",
      "imagen evaluada: D:\\dani\\pattern\\DJI_0562.JPG\n",
      "imagen original: D:\\dani\\pattern\\DJI_0563.JPG\n",
      "imagen evaluada: D:\\dani\\pattern\\DJI_0563.JPG\n",
      "imagen original: D:\\dani\\pattern\\DJI_0564.JPG\n",
      "imagen evaluada: D:\\dani\\pattern\\DJI_0564.JPG\n",
      "imagen original: D:\\dani\\pattern\\DJI_0565.JPG\n",
      "imagen evaluada: D:\\dani\\pattern\\DJI_0565.JPG\n",
      "imagen original: D:\\dani\\pattern\\DJI_0566.JPG\n",
      "imagen evaluada: D:\\dani\\pattern\\DJI_0566.JPG\n",
      "imagen original: D:\\dani\\pattern\\DJI_0567.JPG\n",
      "imagen evaluada: D:\\dani\\pattern\\DJI_0567.JPG\n"
     ]
    }
   ],
   "source": [
    "\n",
    "# termination criteria\n",
    "criteria = (cv2.TERM_CRITERIA_EPS + cv2.TERM_CRITERIA_MAX_ITER, 30, 0.001)\n",
    "\n",
    "# prepare object points, like (0,0,0), (1,0,0), (2,0,0) ....,(6,5,0)\n",
    "objp = np.zeros((9*6,3), np.float32)\n",
    "\n",
    "objp[:,:2] = np.mgrid[0:9,0:6].T.reshape(-1,2)*30\n",
    "\n",
    "\n",
    "# Arrays to store object points and image points from all the images.\n",
    "objpoints = [] # 3d point in real world space\n",
    "imgpoints = [] # 2d points in image plane.\n",
    "\n",
    "\n",
    "#carpeta del patrón de tablero \n",
    "images = glob.glob(path_pattern+'/*.JPG')\n",
    "\n",
    "for fname in images:\n",
    "  img = cv2.imread(fname)\n",
    "  gray = cv2.cvtColor(img,cv2.COLOR_BGR2GRAY)\n",
    "\n",
    "  # Find the chess board corners\n",
    "  ret, corners = cv2.findChessboardCorners(gray, (9,6),None)\n",
    "  print(f'imagen original: {fname}')\n",
    "  # If found, add object points, image points (after refining them)\n",
    "    \n",
    "  if ret == True:\n",
    "    print(f'imagen evaluada: {fname}')\n",
    "    objpoints.append(objp)\n",
    "\n",
    "    corners2 = cv2.cornerSubPix(gray,corners,(11,11),(-1,-1),criteria)\n",
    "    imgpoints.append(corners2)\n",
    "\n",
    "    # Draw and display the corners\n",
    "ret, mtx, dist, rvecs, tvecs = cv2.calibrateCamera(objpoints, imgpoints, gray.shape[::-1],None,None)\n",
    "\n",
    "\n",
    "\n",
    "#Se crea un archivo Pickle con los parametros guardados \n",
    "pickle.dump(cv2.calibrateCamera(objpoints, imgpoints, gray.shape[::-1],None,None), open( path_images+'/calibracion.pickle', \"wb\" ) )"
   ]
  }
 ],
 "metadata": {
  "colab": {
   "collapsed_sections": [],
   "name": "CALIBRACION GOPRO LINEAL",
   "provenance": []
  },
  "kernelspec": {
   "display_name": "Python 3",
   "language": "python",
   "name": "python3"
  },
  "language_info": {
   "codemirror_mode": {
    "name": "ipython",
    "version": 3
   },
   "file_extension": ".py",
   "mimetype": "text/x-python",
   "name": "python",
   "nbconvert_exporter": "python",
   "pygments_lexer": "ipython3",
   "version": "3.6.5"
  }
 },
 "nbformat": 4,
 "nbformat_minor": 1
}
