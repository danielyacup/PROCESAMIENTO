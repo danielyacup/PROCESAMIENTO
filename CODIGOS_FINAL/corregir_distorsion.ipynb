{
 "cells": [
  {
   "cell_type": "code",
   "execution_count": 1,
   "metadata": {
    "id": "pfmN1C9iPo4z"
   },
   "outputs": [],
   "source": [
    "import cv2\n",
    "import numpy as np\n",
    "import glob\n",
    "import pickle\n"
   ]
  },
  {
   "cell_type": "code",
   "execution_count": 2,
   "metadata": {},
   "outputs": [],
   "source": [
    "#Carpeta con las carpetas de las imagenes originales y de las imagenes corregidas\n",
    "path_images = 'D:\\correccion\\imagenes'\n"
   ]
  },
  {
   "cell_type": "code",
   "execution_count": 10,
   "metadata": {
    "id": "sgUi09tdMuf7",
    "scrolled": true
   },
   "outputs": [
    {
     "name": "stdout",
     "output_type": "stream",
     "text": [
      "(0, 0, 3999, 2249)\n",
      "(0, 0, 3999, 2249)\n",
      "(0, 0, 3999, 2249)\n",
      "(0, 0, 3999, 2249)\n",
      "(0, 0, 3999, 2249)\n",
      "(0, 0, 3999, 2249)\n",
      "(0, 0, 3999, 2249)\n",
      "(0, 0, 3999, 2249)\n",
      "(0, 0, 3999, 2249)\n",
      "(0, 0, 3999, 2249)\n",
      "(0, 0, 3999, 2249)\n",
      "(0, 0, 3999, 2249)\n",
      "(0, 0, 3999, 2249)\n",
      "(0, 0, 3999, 2249)\n",
      "(0, 0, 3999, 2249)\n",
      "(0, 0, 3999, 2249)\n",
      "(0, 0, 3999, 2249)\n",
      "(0, 0, 3999, 2249)\n",
      "(0, 0, 3999, 2249)\n",
      "(0, 0, 3999, 2249)\n",
      "(0, 0, 3999, 2249)\n",
      "(0, 0, 3999, 2249)\n",
      "(0, 0, 3999, 2249)\n",
      "(0, 0, 3999, 2249)\n",
      "(0, 0, 3999, 2249)\n",
      "(0, 0, 3999, 2249)\n",
      "(0, 0, 3999, 2249)\n",
      "(0, 0, 3999, 2249)\n",
      "(0, 0, 3999, 2249)\n",
      "(0, 0, 3999, 2249)\n",
      "(0, 0, 3999, 2249)\n",
      "(0, 0, 3999, 2249)\n",
      "(0, 0, 3999, 2249)\n",
      "(0, 0, 3999, 2249)\n",
      "(0, 0, 3999, 2249)\n",
      "(0, 0, 3999, 2249)\n",
      "(0, 0, 3999, 2249)\n",
      "(0, 0, 3999, 2249)\n",
      "(0, 0, 3999, 2249)\n",
      "(0, 0, 3999, 2249)\n",
      "(0, 0, 3999, 2249)\n",
      "(0, 0, 3999, 2249)\n",
      "(0, 0, 3999, 2249)\n",
      "(0, 0, 3999, 2249)\n",
      "(0, 0, 3999, 2249)\n",
      "(0, 0, 3999, 2249)\n",
      "(0, 0, 3999, 2249)\n",
      "(0, 0, 3999, 2249)\n",
      "(0, 0, 3999, 2249)\n",
      "(0, 0, 3999, 2249)\n",
      "(0, 0, 3999, 2249)\n",
      "(0, 0, 3999, 2249)\n",
      "(0, 0, 3999, 2249)\n",
      "(0, 0, 3999, 2249)\n",
      "(0, 0, 3999, 2249)\n",
      "(0, 0, 3999, 2249)\n",
      "(0, 0, 3999, 2249)\n",
      "(0, 0, 3999, 2249)\n"
     ]
    }
   ],
   "source": [
    "ret, mtx, dist, rvecs, tvecs = pickle.load( open(  path_images+'/calibracion.pickle', \"rb\" ) ) #Parametros de la camara \n",
    "\n",
    "images = glob.glob(path_images+'/original/*.JPG') \n",
    "\n",
    "i=0\n",
    "for fname in images:\n",
    "  \n",
    "    img = cv2.imread(fname, cv2.IMREAD_COLOR)\n",
    "\n",
    "    h,  w = img.shape[:2]\n",
    "    newcameramtx, roi = cv2.getOptimalNewCameraMatrix(mtx, dist, (w,h), 0, (w,h))\n",
    "     \n",
    "    \n",
    "    dst = cv2.undistort(img, mtx, dist, None, newcameramtx)\n",
    "\n",
    "    cv2.imwrite(path_images+'/corregida2/corr_%d' % i + '.JPG', dst)\n",
    "\n",
    "    i+=1\n",
    "  \n",
    "\n"
   ]
  },
  {
   "cell_type": "code",
   "execution_count": null,
   "metadata": {},
   "outputs": [],
   "source": []
  }
 ],
 "metadata": {
  "colab": {
   "collapsed_sections": [],
   "name": "CALIBRACION GOPRO LINEAL",
   "provenance": []
  },
  "kernelspec": {
   "display_name": "Python 3",
   "language": "python",
   "name": "python3"
  },
  "language_info": {
   "codemirror_mode": {
    "name": "ipython",
    "version": 3
   },
   "file_extension": ".py",
   "mimetype": "text/x-python",
   "name": "python",
   "nbconvert_exporter": "python",
   "pygments_lexer": "ipython3",
   "version": "3.6.5"
  }
 },
 "nbformat": 4,
 "nbformat_minor": 1
}
